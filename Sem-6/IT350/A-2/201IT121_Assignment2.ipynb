{
  "nbformat": 4,
  "nbformat_minor": 0,
  "metadata": {
    "colab": {
      "provenance": [],
      "authorship_tag": "ABX9TyNZs0hg3vHOZF28WTLlB7pv",
      "include_colab_link": true
    },
    "kernelspec": {
      "name": "python3",
      "display_name": "Python 3"
    },
    "language_info": {
      "name": "python"
    }
  },
  "cells": [
    {
      "cell_type": "markdown",
      "metadata": {
        "id": "view-in-github",
        "colab_type": "text"
      },
      "source": [
        "<a href=\"https://colab.research.google.com/github/durga207/NITK-IT/blob/master/Sem-6/IT350/A-2/201IT121_Assignment2.ipynb\" target=\"_parent\"><img src=\"https://colab.research.google.com/assets/colab-badge.svg\" alt=\"Open In Colab\"/></a>"
      ]
    },
    {
      "cell_type": "markdown",
      "source": [
        "# A. How many distinct shingles are there for each document with each type of shingle?\n"
      ],
      "metadata": {
        "id": "mZFZl6Exx3Ej"
      }
    },
    {
      "cell_type": "code",
      "execution_count": null,
      "metadata": {
        "id": "muu7NEKTs3mG"
      },
      "outputs": [],
      "source": [
        "def k_shingles_chars(k, filename):\n",
        "    file = open(filename)\n",
        "    data = file.read()\n",
        "    file.close()\n",
        "    duplicates = {}\n",
        "    shingles = []\n",
        "\n",
        "    for i in range(len(data) - k):\n",
        "        test_shingle = data[i : i + k]\n",
        "        if test_shingle not in duplicates:\n",
        "            shingles.append(test_shingle)\n",
        "            duplicates[test_shingle] = 1\n",
        "\n",
        "    return shingles"
      ]
    },
    {
      "cell_type": "code",
      "source": [
        "from google.colab import drive\n",
        "drive.mount('/content/drive')\n",
        "\n"
      ],
      "metadata": {
        "colab": {
          "base_uri": "https://localhost:8080/"
        },
        "id": "gpwNIlQltao_",
        "outputId": "da0a58c0-1dde-4a5c-eb0b-e802bbb4b12b"
      },
      "execution_count": null,
      "outputs": [
        {
          "output_type": "stream",
          "name": "stdout",
          "text": [
            "Mounted at /content/drive\n"
          ]
        }
      ]
    },
    {
      "cell_type": "code",
      "source": [
        "cd 'drive/My Drive/DATA'"
      ],
      "metadata": {
        "colab": {
          "base_uri": "https://localhost:8080/"
        },
        "id": "Q4hRUrxfwsJq",
        "outputId": "0b7e5974-6334-4c89-b32c-891bd6e27294"
      },
      "execution_count": null,
      "outputs": [
        {
          "output_type": "stream",
          "name": "stdout",
          "text": [
            "/content/drive/My Drive/DATA\n"
          ]
        }
      ]
    },
    {
      "cell_type": "markdown",
      "source": [
        "### Construct 5-shingles based on characters, for all documents."
      ],
      "metadata": {
        "id": "n2hQILSOtYBf"
      }
    },
    {
      "cell_type": "code",
      "source": [
        "d1_shingles_5 = k_shingles_chars(5, \"doc1.txt\")\n",
        "d2_shingles_5 = k_shingles_chars(5, \"doc2.txt\")\n",
        "d3_shingles_5 = k_shingles_chars(5, \"doc3.txt\")\n",
        "d4_shingles_5 = k_shingles_chars(5, \"doc4.txt\")\n",
        "\n",
        "print(\"Number of distinct 5-shingles based on character for document 1: \", len(d1_shingles_5))\n",
        "print(\"Number of distinct 5-shingles based on character for document 2: \", len(d2_shingles_5))\n",
        "print(\"Number of distinct 5-shingles based on character for document 3: \", len(d3_shingles_5))\n",
        "print(\"Number of distinct 5-shingles based on character for document 4: \", len(d4_shingles_5))\n",
        "print(\"-----------------------------------------------------------------------\")"
      ],
      "metadata": {
        "colab": {
          "base_uri": "https://localhost:8080/"
        },
        "id": "PAwe6FHMvI2F",
        "outputId": "3c6a3fd3-5005-4cf1-ccec-6adbd055c83e"
      },
      "execution_count": null,
      "outputs": [
        {
          "output_type": "stream",
          "name": "stdout",
          "text": [
            "Number of distinct 5-shingles based on character for document 1:  5027\n",
            "Number of distinct 5-shingles based on character for document 2:  3014\n",
            "Number of distinct 5-shingles based on character for document 3:  3678\n",
            "Number of distinct 5-shingles based on character for document 4:  4466\n",
            "-----------------------------------------------------------------------\n"
          ]
        }
      ]
    },
    {
      "cell_type": "markdown",
      "source": [
        "### Construct 8-shingles based on characters, for all documents."
      ],
      "metadata": {
        "id": "cnswrUQQxBCl"
      }
    },
    {
      "cell_type": "code",
      "source": [
        "d1_shingles_8 = k_shingles_chars(5, \"doc1.txt\")\n",
        "d2_shingles_8 = k_shingles_chars(5, \"doc2.txt\")\n",
        "d3_shingles_8 = k_shingles_chars(5, \"doc3.txt\")\n",
        "d4_shingles_8 = k_shingles_chars(5, \"doc4.txt\")\n",
        "\n",
        "print(\"Number of distinct 8-shingles based on character for document 1: \", len(d1_shingles_8))\n",
        "print(\"Number of distinct 8-shingles based on character for document 2: \", len(d2_shingles_8))\n",
        "print(\"Number of distinct 8-shingles based on character for document 3: \", len(d3_shingles_8))\n",
        "print(\"Number of distinct 8-shingles based on character for document 4: \", len(d4_shingles_8))\n",
        "print(\"-----------------------------------------------------------------------\")"
      ],
      "metadata": {
        "colab": {
          "base_uri": "https://localhost:8080/"
        },
        "id": "UleM13XBxF26",
        "outputId": "873a4d4d-7223-4992-f56d-240075d7fcc4"
      },
      "execution_count": null,
      "outputs": [
        {
          "output_type": "stream",
          "name": "stdout",
          "text": [
            "Number of distinct 8-shingles based on character for document 1:  5027\n",
            "Number of distinct 8-shingles based on character for document 2:  3014\n",
            "Number of distinct 8-shingles based on character for document 3:  3678\n",
            "Number of distinct 8-shingles based on character for document 4:  4466\n",
            "-----------------------------------------------------------------------\n"
          ]
        }
      ]
    },
    {
      "cell_type": "code",
      "source": [
        "# Function to get k-shingles based on words for given k and document\n",
        "def k_shingles_words(k, filename):\n",
        "    file = open(filename)\n",
        "    data = file.read()\n",
        "    file.close()\n",
        "    duplicates = {}\n",
        "    shingles = []\n",
        "    words = data.split()\n",
        "\n",
        "    for i in range(len(words) - k):\n",
        "        test_shingle = words[i : i + k]\n",
        "        if str(test_shingle) not in duplicates:\n",
        "            shingles.append(str(test_shingle))\n",
        "            duplicates[str(test_shingle)] = 1\n",
        "\n",
        "    return shingles"
      ],
      "metadata": {
        "id": "mZRX9yDwxV2C"
      },
      "execution_count": null,
      "outputs": []
    },
    {
      "cell_type": "markdown",
      "source": [
        "## Construct 4-shingles based on words, for all documents."
      ],
      "metadata": {
        "id": "jGdTWPCFxYld"
      }
    },
    {
      "cell_type": "code",
      "source": [
        "d1_shingles_4 = k_shingles_words(4, \"doc1.txt\")\n",
        "d2_shingles_4 = k_shingles_words(4, \"doc2.txt\")\n",
        "d3_shingles_4 = k_shingles_words(4, \"doc3.txt\")\n",
        "d4_shingles_4 = k_shingles_words(4, \"doc4.txt\")\n",
        "\n",
        "print(\"Number of distinct 4-shingles based on words for document 1: \", len(d1_shingles_4))\n",
        "print(\"Number of distinct 4-shingles based on words for document 2: \", len(d2_shingles_4))\n",
        "print(\"Number of distinct 4-shingles based on words for document 3: \", len(d3_shingles_4))\n",
        "print(\"Number of distinct 4-shingles based on words for document 4: \", len(d4_shingles_4))"
      ],
      "metadata": {
        "colab": {
          "base_uri": "https://localhost:8080/"
        },
        "id": "PL1uqiPGxgRc",
        "outputId": "afbe8af9-554a-49bd-97ca-131ee00033c8"
      },
      "execution_count": null,
      "outputs": [
        {
          "output_type": "stream",
          "name": "stdout",
          "text": [
            "Number of distinct 4-shingles based on words for document 1:  1444\n",
            "Number of distinct 4-shingles based on words for document 2:  785\n",
            "Number of distinct 4-shingles based on words for document 3:  992\n",
            "Number of distinct 4-shingles based on words for document 4:  1277\n"
          ]
        }
      ]
    },
    {
      "cell_type": "markdown",
      "source": [
        "# B: Compute the Jaccard distance between all pairs of documents for each type of shingling."
      ],
      "metadata": {
        "id": "BfOnH23NySRL"
      }
    },
    {
      "cell_type": "code",
      "source": [
        "# Jaccard distance betweeen pairs of documents\n",
        "def jaccard_dist(shingle1, shingle2):\n",
        "    union = list(set(shingle1) | set(shingle2))\n",
        "    intersection = list(set(shingle1) & set(shingle2))\n",
        "    dist = 1 - (len(intersection) / len(union))\n",
        "    return dist"
      ],
      "metadata": {
        "id": "1gWm2827yiMa"
      },
      "execution_count": null,
      "outputs": []
    },
    {
      "cell_type": "code",
      "source": [
        "# Jaccard distance for all pairs of documents for 5-shingling based on characters\n",
        "print(\n",
        "    \"Jaccard distance between document 1 and document 2 for 5-shingling based on characters: \",\n",
        "    jaccard_dist(d1_shingles_5, d2_shingles_5),\n",
        ")\n",
        "print(\n",
        "    \"Jaccard distance between document 1 and document 3 for 5-shingling based on characters: \",\n",
        "    jaccard_dist(d1_shingles_5, d3_shingles_5),\n",
        ")\n",
        "print(\n",
        "    \"Jaccard distance between document 1 and document 4 for 5-shingling based on characters: \",\n",
        "    jaccard_dist(d1_shingles_5, d4_shingles_5),\n",
        ")\n",
        "print(\n",
        "    \"Jaccard distance between document 2 and document 3 for 5-shingling based on characters: \",\n",
        "    jaccard_dist(d2_shingles_5, d3_shingles_5),\n",
        ")\n",
        "print(\n",
        "    \"Jaccard distance between document 2 and document 4 for 5-shingling based on characters: \",\n",
        "    jaccard_dist(d2_shingles_5, d4_shingles_5),\n",
        ")\n",
        "print(\n",
        "    \"Jaccard distance between document 3 and document 4 for 5-shingling based on characters: \",\n",
        "    jaccard_dist(d3_shingles_5, d4_shingles_5),\n",
        ")\n",
        "print(\"------------------------------------------------------------------------------------------------------------\")\n",
        "\n",
        "# Jaccard distance for all pairs of documents for 8-shingling based on characters\n",
        "print(\n",
        "    \"Jaccard distance between document 1 and document 2 for 8-shingling based on characters: \",\n",
        "    jaccard_dist(d1_shingles_8, d2_shingles_8),\n",
        ")\n",
        "print(\n",
        "    \"Jaccard distance between document 1 and document 3 for 8-shingling based on characters: \",\n",
        "    jaccard_dist(d1_shingles_8, d3_shingles_8),\n",
        ")\n",
        "print(\n",
        "    \"Jaccard distance between document 1 and document 4 for 8-shingling based on characters: \",\n",
        "    jaccard_dist(d1_shingles_8, d4_shingles_8),\n",
        ")\n",
        "print(\n",
        "    \"Jaccard distance between document 2 and document 3 for 8-shingling based on characters: \",\n",
        "    jaccard_dist(d2_shingles_8, d3_shingles_8),\n",
        "    )\n",
        "print(\n",
        "    \"Jaccard distance between document 2 and document 4 for 8-shingling based on characters: \",\n",
        "    jaccard_dist(d2_shingles_8, d4_shingles_8),\n",
        ")\n",
        "print(\n",
        "    \"Jaccard distance between document 3 and document 4 for 8-shingling based on characters: \",\n",
        "    jaccard_dist(d3_shingles_8, d4_shingles_8),\n",
        ")\n",
        "print(\"------------------------------------------------------------------------------------------------------------\")\n",
        "\n",
        "# Jaccard distance for all pairs of documents for 4-shingling based on words\n",
        "print(\n",
        "    \"Jaccard distance between document 1 and document 2 for 4-shingling based on words: \",\n",
        "    jaccard_dist(d1_shingles_4, d2_shingles_4),\n",
        ")\n",
        "print(\n",
        "    \"Jaccard distance between document 1 and document 3 for 4-shingling based on words: \",\n",
        "    jaccard_dist(d1_shingles_4, d3_shingles_4),\n",
        ")\n",
        "print(\n",
        "    \"Jaccard distance between document 1 and document 4 for 4-shingling based on words: \",\n",
        "    jaccard_dist(d1_shingles_4, d4_shingles_4),\n",
        ")\n",
        "print(\n",
        "    \"Jaccard distance between document 2 and document 3 for 4-shingling based on words: \",\n",
        "    jaccard_dist(d2_shingles_4, d3_shingles_4),\n",
        ")\n",
        "print(\n",
        "    \"Jaccard distance between document 2 and document 4 for 4-shingling based on words: \",\n",
        "    jaccard_dist(d2_shingles_4, d4_shingles_4),\n",
        ")\n",
        "print(\n",
        "    \"Jaccard distance between document 3 and document 4 for 4-shingling based on words: \",\n",
        "    jaccard_dist(d3_shingles_4, d4_shingles_4),\n",
        ")"
      ],
      "metadata": {
        "colab": {
          "base_uri": "https://localhost:8080/"
        },
        "id": "d58FDUtUzAKL",
        "outputId": "6273d4d5-5a58-44fc-bffb-6ebdd490e0da"
      },
      "execution_count": null,
      "outputs": [
        {
          "output_type": "stream",
          "name": "stdout",
          "text": [
            "Jaccard distance between document 1 and document 2 for 5-shingling based on characters:  0.8892112170189252\n",
            "Jaccard distance between document 1 and document 3 for 5-shingling based on characters:  0.8822547508988187\n",
            "Jaccard distance between document 1 and document 4 for 5-shingling based on characters:  0.8674540682414698\n",
            "Jaccard distance between document 2 and document 3 for 5-shingling based on characters:  0.8820581356498497\n",
            "Jaccard distance between document 2 and document 4 for 5-shingling based on characters:  0.8788968824940048\n",
            "Jaccard distance between document 3 and document 4 for 5-shingling based on characters:  0.8810112668315471\n",
            "------------------------------------------------------------------------------------------------------------\n",
            "Jaccard distance between document 1 and document 2 for 8-shingling based on characters:  0.8892112170189252\n",
            "Jaccard distance between document 1 and document 3 for 8-shingling based on characters:  0.8822547508988187\n",
            "Jaccard distance between document 1 and document 4 for 8-shingling based on characters:  0.8674540682414698\n",
            "Jaccard distance between document 2 and document 3 for 8-shingling based on characters:  0.8820581356498497\n",
            "Jaccard distance between document 2 and document 4 for 8-shingling based on characters:  0.8788968824940048\n",
            "Jaccard distance between document 3 and document 4 for 8-shingling based on characters:  0.8810112668315471\n",
            "------------------------------------------------------------------------------------------------------------\n",
            "Jaccard distance between document 1 and document 2 for 4-shingling based on words:  0.9991019308486754\n",
            "Jaccard distance between document 1 and document 3 for 4-shingling based on words:  0.998766954377312\n",
            "Jaccard distance between document 1 and document 4 for 4-shingling based on words:  1.0\n",
            "Jaccard distance between document 2 and document 3 for 4-shingling based on words:  0.9977439368302312\n",
            "Jaccard distance between document 2 and document 4 for 4-shingling based on words:  0.9985429820301117\n",
            "Jaccard distance between document 3 and document 4 for 4-shingling based on words:  0.9995590828924162\n"
          ]
        }
      ]
    },
    {
      "cell_type": "markdown",
      "source": [
        "# C. Change to any Similarity Function (use any recent similarity distance) and check the distance."
      ],
      "metadata": {
        "id": "trvMWBrjzLMt"
      }
    },
    {
      "cell_type": "code",
      "source": [
        "!pip install python-Levenshtein\n",
        "import Levenshtein as lev"
      ],
      "metadata": {
        "colab": {
          "base_uri": "https://localhost:8080/"
        },
        "id": "sOzQKmf9zMdg",
        "outputId": "c3480f96-5f12-487c-b0ba-6f151d46b4f3"
      },
      "execution_count": null,
      "outputs": [
        {
          "output_type": "stream",
          "name": "stdout",
          "text": [
            "Looking in indexes: https://pypi.org/simple, https://us-python.pkg.dev/colab-wheels/public/simple/\n",
            "Collecting python-Levenshtein\n",
            "  Downloading python_Levenshtein-0.20.9-py3-none-any.whl (9.4 kB)\n",
            "Collecting Levenshtein==0.20.9\n",
            "  Downloading Levenshtein-0.20.9-cp38-cp38-manylinux_2_17_x86_64.manylinux2014_x86_64.whl (174 kB)\n",
            "\u001b[2K     \u001b[90m━━━━━━━━━━━━━━━━━━━━━━━━━━━━━━━━━━━━━━━\u001b[0m \u001b[32m174.0/174.0 KB\u001b[0m \u001b[31m9.0 MB/s\u001b[0m eta \u001b[36m0:00:00\u001b[0m\n",
            "\u001b[?25hCollecting rapidfuzz<3.0.0,>=2.3.0\n",
            "  Downloading rapidfuzz-2.13.7-cp38-cp38-manylinux_2_17_x86_64.manylinux2014_x86_64.whl (2.2 MB)\n",
            "\u001b[2K     \u001b[90m━━━━━━━━━━━━━━━━━━━━━━━━━━━━━━━━━━━━━━━━\u001b[0m \u001b[32m2.2/2.2 MB\u001b[0m \u001b[31m45.3 MB/s\u001b[0m eta \u001b[36m0:00:00\u001b[0m\n",
            "\u001b[?25hInstalling collected packages: rapidfuzz, Levenshtein, python-Levenshtein\n",
            "Successfully installed Levenshtein-0.20.9 python-Levenshtein-0.20.9 rapidfuzz-2.13.7\n"
          ]
        }
      ]
    },
    {
      "cell_type": "code",
      "source": [
        "# Levenshtein distance betweeen pairs of documents\n",
        "def levenshtein_dist(filename1, filename2):\n",
        "    file1 = open(filename1, \"r\")\n",
        "    file2 = open(filename2, \"r\")\n",
        "    text1 = file1.read()\n",
        "    text2 = file2.read()\n",
        "    file1.close()\n",
        "    file2.close()\n",
        "    return lev.ratio(text1, text2)"
      ],
      "metadata": {
        "id": "pASV5n5GzS_3"
      },
      "execution_count": null,
      "outputs": []
    },
    {
      "cell_type": "code",
      "source": [
        "print(\"Levenshtein Distance between document 1 and document 2 : \", levenshtein_dist(\"doc1.txt\", \"doc2.txt\"))\n",
        "print(\"Levenshtein Distance between document 1 and document 3 : \", levenshtein_dist(\"doc1.txt\", \"doc3.txt\"))\n",
        "print(\"Levenshtein Distance between document 1 and document 4 : \", levenshtein_dist(\"doc1.txt\", \"doc4.txt\"))\n",
        "print(\"Levenshtein Distance between document 2 and document 3 : \", levenshtein_dist(\"doc2.txt\", \"doc3.txt\"))\n",
        "print(\"Levenshtein Distance between document 2 and document 4 : \", levenshtein_dist(\"doc2.txt\", \"doc4.txt\"))\n",
        "print(\"Levenshtein Distance between document 3 and document 4 : \", levenshtein_dist(\"doc1.txt\", \"doc4.txt\"))"
      ],
      "metadata": {
        "colab": {
          "base_uri": "https://localhost:8080/"
        },
        "id": "Yu4yGniMzav5",
        "outputId": "82db09b3-263f-4831-ce8e-98c0928ea210"
      },
      "execution_count": null,
      "outputs": [
        {
          "output_type": "stream",
          "name": "stdout",
          "text": [
            "Levenshtein Distance between document 1 and document 2 :  0.38708656432979904\n",
            "Levenshtein Distance between document 1 and document 3 :  0.40949598246895547\n",
            "Levenshtein Distance between document 1 and document 4 :  0.43111256974072854\n",
            "Levenshtein Distance between document 2 and document 3 :  0.43817920852983394\n",
            "Levenshtein Distance between document 2 and document 4 :  0.4177360828391893\n",
            "Levenshtein Distance between document 3 and document 4 :  0.43111256974072854\n"
          ]
        }
      ]
    },
    {
      "cell_type": "markdown",
      "source": [
        "# D. Try the above all for anyone Indian language Text or Code-Mixed Text (Hinglish, Kanglish, etc). "
      ],
      "metadata": {
        "id": "6P6m44ozz4OE"
      }
    },
    {
      "cell_type": "code",
      "source": [
        "# 5-shingles based on characters for all documents\n",
        "d1_shingles_5_kannada = k_shingles_chars(5, \"kn1.txt\")\n",
        "d2_shingles_5_kannada = k_shingles_chars(5, \"kn2.txt\")\n",
        "d3_shingles_5_kannada = k_shingles_chars(5, \"kn3.txt\")\n",
        "d4_shingles_5_kannada = k_shingles_chars(5, \"kn4.txt\")\n",
        "\n",
        "print(\"Number of distinct 5-shingles based on character for document 1: \", len(d1_shingles_5_kannada))\n",
        "print(\"Number of distinct 5-shingles based on character for document 2: \", len(d2_shingles_5_kannada))\n",
        "print(\"Number of distinct 5-shingles based on character for document 3: \", len(d3_shingles_5_kannada))\n",
        "print(\"Number of distinct 5-shingles based on character for document 4: \", len(d4_shingles_5_kannada))\n",
        "print(\"-----------------------------------------------------------------------\")\n",
        "\n",
        "# 8-shingles based on characters for all documents\n",
        "d1_shingles_8_kannada = k_shingles_chars(8, \"kn1.txt\")\n",
        "d2_shingles_8_kannada = k_shingles_chars(8, \"kn2.txt\")\n",
        "d3_shingles_8_kannada = k_shingles_chars(8, \"kn3.txt\")\n",
        "d4_shingles_8_kannada = k_shingles_chars(8, \"kn4.txt\")\n",
        "\n",
        "print(\"Number of distinct 8-shingles based on character for document 1: \", len(d1_shingles_8_kannada))\n",
        "print(\"Number of distinct 8-shingles based on character for document 2: \", len(d2_shingles_8_kannada))\n",
        "print(\"Number of distinct 8-shingles based on character for document 3: \", len(d3_shingles_8_kannada))\n",
        "print(\"Number of distinct 8-shingles based on character for document 4: \", len(d4_shingles_8_kannada))\n",
        "print(\"-----------------------------------------------------------------------\")\n",
        "\n",
        "# 4-shingles based on words for all documents\n",
        "d1_shingles_4_kannada = k_shingles_words(4, \"kn1.txt\")\n",
        "d2_shingles_4_kannada = k_shingles_words(4, \"kn2.txt\")\n",
        "d3_shingles_4_kannada = k_shingles_words(4, \"kn3.txt\")\n",
        "d4_shingles_4_kannada = k_shingles_words(4, \"kn4.txt\")\n",
        "\n",
        "print(\"Number of distinct 4-shingles based on words for document 1: \", len(d1_shingles_4_kannada))\n",
        "print(\"Number of distinct 4-shingles based on words for document 2: \", len(d2_shingles_4_kannada))\n",
        "print(\"Number of distinct 4-shingles based on words for document 3: \", len(d3_shingles_4_kannada))\n",
        "print(\"Number of distinct 4-shingles based on words for document 4: \", len(d4_shingles_4_kannada))"
      ],
      "metadata": {
        "colab": {
          "base_uri": "https://localhost:8080/"
        },
        "id": "aC8KDWioz5Pj",
        "outputId": "964ed4c3-64cf-4750-a60b-b2005d2f7b84"
      },
      "execution_count": null,
      "outputs": [
        {
          "output_type": "stream",
          "name": "stdout",
          "text": [
            "Number of distinct 5-shingles based on character for document 1:  6231\n",
            "Number of distinct 5-shingles based on character for document 2:  4570\n",
            "Number of distinct 5-shingles based on character for document 3:  6243\n",
            "Number of distinct 5-shingles based on character for document 4:  4953\n",
            "-----------------------------------------------------------------------\n",
            "Number of distinct 8-shingles based on character for document 1:  8008\n",
            "Number of distinct 8-shingles based on character for document 2:  5786\n",
            "Number of distinct 8-shingles based on character for document 3:  8596\n",
            "Number of distinct 8-shingles based on character for document 4:  6631\n",
            "-----------------------------------------------------------------------\n",
            "Number of distinct 4-shingles based on words for document 1:  1125\n",
            "Number of distinct 4-shingles based on words for document 2:  751\n",
            "Number of distinct 4-shingles based on words for document 3:  1227\n",
            "Number of distinct 4-shingles based on words for document 4:  981\n"
          ]
        }
      ]
    },
    {
      "cell_type": "code",
      "source": [
        "# Jaccard distance for all pairs of documents for 5-shingling based on characters\n",
        "print(\n",
        "    \"Jaccard distance between document 1 and document 2 for 5-shingling based on characters: \",\n",
        "    jaccard_dist(d1_shingles_5_kannada, d2_shingles_5_kannada),\n",
        ")\n",
        "print(\n",
        "    \"Jaccard distance between document 1 and document 3 for 5-shingling based on characters: \",\n",
        "    jaccard_dist(d1_shingles_5_kannada, d3_shingles_5_kannada),\n",
        ")\n",
        "print(\n",
        "    \"Jaccard distance between document 1 and document 4 for 5-shingling based on characters: \",\n",
        "    jaccard_dist(d1_shingles_5_kannada, d4_shingles_5_kannada),\n",
        ")\n",
        "print(\n",
        "    \"Jaccard distance between document 2 and document 3 for 5-shingling based on characters: \",\n",
        "    jaccard_dist(d2_shingles_5_kannada, d3_shingles_5_kannada),\n",
        ")\n",
        "print(\n",
        "    \"Jaccard distance between document 2 and document 4 for 5-shingling based on characters: \",\n",
        "    jaccard_dist(d2_shingles_5_kannada, d4_shingles_5_kannada),\n",
        ")\n",
        "print(\n",
        "    \"Jaccard distance between document 3 and document 4 for 5-shingling based on characters: \",\n",
        "    jaccard_dist(d3_shingles_5_kannada, d4_shingles_5_kannada),\n",
        ")\n",
        "print(\"------------------------------------------------------------------------------------------------------------\")\n",
        "\n",
        "# Jaccard distance for all pairs of documents for 8-shingling based on characters\n",
        "print(\n",
        "    \"Jaccard distance between document 1 and document 2 for 8-shingling based on characters: \",\n",
        "    jaccard_dist(d1_shingles_8_kannada, d2_shingles_8_kannada),\n",
        ")\n",
        "print(\n",
        "    \"Jaccard distance between document 1 and document 3 for 8-shingling based on characters: \",\n",
        "    jaccard_dist(d1_shingles_8_kannada, d3_shingles_8_kannada),\n",
        ")\n",
        "print(\n",
        "    \"Jaccard distance between document 1 and document 4 for 8-shingling based on characters: \",\n",
        "    jaccard_dist(d1_shingles_8_kannada, d4_shingles_8_kannada),\n",
        ")\n",
        "print(\n",
        "    \"Jaccard distance between document 2 and document 3 for 8-shingling based on characters: \",\n",
        "    jaccard_dist(d2_shingles_8_kannada, d3_shingles_8_kannada),\n",
        ")\n",
        "print(\n",
        "    \"Jaccard distance between document 2 and document 4 for 8-shingling based on characters: \",\n",
        "    jaccard_dist(d2_shingles_8_kannada, d4_shingles_8_kannada),\n",
        ")\n",
        "print(\n",
        "    \"Jaccard distance between document 3 and document 4 for 8-shingling based on characters: \",\n",
        "    jaccard_dist(d3_shingles_8_kannada, d4_shingles_8_kannada),\n",
        ")\n",
        "print(\"------------------------------------------------------------------------------------------------------------\")\n",
        "\n",
        "# Jaccard distance for all pairs of documents for 4-shingling based on words\n",
        "print(\n",
        "    \"Jaccard distance between document 1 and document 2 for 4-shingling based on words: \",\n",
        "    jaccard_dist(d1_shingles_4_kannada, d2_shingles_4_kannada),\n",
        ")\n",
        "print(\n",
        "    \"Jaccard distance between document 1 and document 3 for 4-shingling based on words: \",\n",
        "    jaccard_dist(d1_shingles_4_kannada, d3_shingles_4_kannada),\n",
        ")\n",
        "print(\n",
        "    \"Jaccard distance between document 1 and document 4 for 4-shingling based on words: \",\n",
        "    jaccard_dist(d1_shingles_4_kannada, d4_shingles_4_kannada),\n",
        ")\n",
        "print(\n",
        "    \"Jaccard distance between document 2 and document 3 for 4-shingling based on words: \",\n",
        "    jaccard_dist(d2_shingles_4_kannada, d3_shingles_4_kannada),\n",
        ")\n",
        "print(\n",
        "    \"Jaccard distance between document 2 and document 4 for 4-shingling based on words: \",\n",
        "    jaccard_dist(d2_shingles_4_kannada, d4_shingles_4_kannada),\n",
        ")\n",
        "print(\n",
        "    \"Jaccard distance between document 3 and document 4 for 4-shingling based on words: \",\n",
        "    jaccard_dist(d3_shingles_4_kannada, d4_shingles_4_kannada),\n",
        ")"
      ],
      "metadata": {
        "colab": {
          "base_uri": "https://localhost:8080/"
        },
        "id": "G2OQ6SvLVMXk",
        "outputId": "c9fcac86-5099-4cd9-bb77-49bb9fe2d68b"
      },
      "execution_count": null,
      "outputs": [
        {
          "output_type": "stream",
          "name": "stdout",
          "text": [
            "Jaccard distance between document 1 and document 2 for 5-shingling based on characters:  0.9232379623168179\n",
            "Jaccard distance between document 1 and document 3 for 5-shingling based on characters:  0.9214940342382847\n",
            "Jaccard distance between document 1 and document 4 for 5-shingling based on characters:  0.9160690056212444\n",
            "Jaccard distance between document 2 and document 3 for 5-shingling based on characters:  0.9163158949689316\n",
            "Jaccard distance between document 2 and document 4 for 5-shingling based on characters:  0.9280729401170644\n",
            "Jaccard distance between document 3 and document 4 for 5-shingling based on characters:  0.9319851187637127\n",
            "------------------------------------------------------------------------------------------------------------\n",
            "Jaccard distance between document 1 and document 2 for 8-shingling based on characters:  0.9885613726352838\n",
            "Jaccard distance between document 1 and document 3 for 8-shingling based on characters:  0.9902700072974945\n",
            "Jaccard distance between document 1 and document 4 for 8-shingling based on characters:  0.9879709643968199\n",
            "Jaccard distance between document 2 and document 3 for 8-shingling based on characters:  0.9883230163196398\n",
            "Jaccard distance between document 2 and document 4 for 8-shingling based on characters:  0.9890083048363458\n",
            "Jaccard distance between document 3 and document 4 for 8-shingling based on characters:  0.9918564618644068\n",
            "------------------------------------------------------------------------------------------------------------\n",
            "Jaccard distance between document 1 and document 2 for 4-shingling based on words:  1.0\n",
            "Jaccard distance between document 1 and document 3 for 4-shingling based on words:  1.0\n",
            "Jaccard distance between document 1 and document 4 for 4-shingling based on words:  1.0\n",
            "Jaccard distance between document 2 and document 3 for 4-shingling based on words:  1.0\n",
            "Jaccard distance between document 2 and document 4 for 4-shingling based on words:  1.0\n",
            "Jaccard distance between document 3 and document 4 for 4-shingling based on words:  1.0\n"
          ]
        }
      ]
    },
    {
      "cell_type": "code",
      "source": [
        "# Levenshtein distance between all pairs of kannada language documents\n",
        "print(\n",
        "    \"Levenshtein distance between document 1 and document 2: \",\n",
        "    levenshtein_dist(\"kn1.txt\", \"kn2.txt\"),\n",
        ")\n",
        "print(\n",
        "    \"Levenshtein distance between document 1 and document 3: \",\n",
        "    levenshtein_dist(\"kn1.txt\", \"kn3.txt\"),\n",
        ")\n",
        "print(\n",
        "    \"Levenshtein distance between document 1 and document 4: \",\n",
        "    levenshtein_dist(\"kn1.txt\", \"kn4.txt\"),\n",
        ")\n",
        "print(\n",
        "    \"Levenshtein distance between document 2 and document 3: \",\n",
        "    levenshtein_dist(\"kn2.txt\", \"kn3.txt\"),\n",
        ")\n",
        "print(\n",
        "    \"Levenshtein distance between document 2 and document 4: \",\n",
        "    levenshtein_dist(\"kn2.txt\", \"kn4.txt\"),\n",
        ")\n",
        "print(\n",
        "    \"Levenshtein distance between document 3 and document 4: \",\n",
        "    levenshtein_dist(\"kn3.txt\", \"kn4.txt\"),\n",
        ")"
      ],
      "metadata": {
        "colab": {
          "base_uri": "https://localhost:8080/"
        },
        "id": "JHYpHJHBVfgV",
        "outputId": "c28f2aa7-e6b9-4aa0-9316-2eb9b38841cf"
      },
      "execution_count": null,
      "outputs": [
        {
          "output_type": "stream",
          "name": "stdout",
          "text": [
            "Levenshtein distance between document 1 and document 2:  0.35263695134399453\n",
            "Levenshtein distance between document 1 and document 3:  0.35190245953331933\n",
            "Levenshtein distance between document 1 and document 4:  0.36136552872606165\n",
            "Levenshtein distance between document 2 and document 3:  0.34408474877197137\n",
            "Levenshtein distance between document 2 and document 4:  0.3592938733125649\n",
            "Levenshtein distance between document 3 and document 4:  0.3513892786977266\n"
          ]
        }
      ]
    },
    {
      "cell_type": "markdown",
      "source": [
        "# E. Build a min hash signature for the above experiments. "
      ],
      "metadata": {
        "id": "9FkuJi3dex67"
      }
    },
    {
      "cell_type": "code",
      "source": [
        "import binascii\n",
        "import random\n",
        "\n",
        "\n",
        "def coeff(x):\n",
        "    randlist = []\n",
        "    maxshingleid = 2**32 - 1\n",
        "    while x > 0:\n",
        "        i = random.randint(0, maxshingleid)\n",
        "        while i in randlist:\n",
        "            i = random.randint(0, maxshingleid)\n",
        "        randlist.append(i)\n",
        "        x -= 1\n",
        "\n",
        "    return randlist\n",
        "\n",
        "\n",
        "def minhash_signatures(numhashes, shingles):\n",
        "    c = 10007\n",
        "    a = coeff(numhashes)\n",
        "    b = coeff(numhashes)\n",
        "    signature = []\n",
        "    for i in range(0, numhashes):\n",
        "        minhashcode = c + 1\n",
        "        for id in shingles:\n",
        "            id = binascii.crc32(id.encode()) & 0xFFFFFFFF\n",
        "            hashcode = (a[i] * id + b[i]) % c\n",
        "            if hashcode < minhashcode:\n",
        "                minhashcode = hashcode\n",
        "        signature.append(minhashcode)\n",
        "    return signature"
      ],
      "metadata": {
        "id": "mUMvrTMYe0-s"
      },
      "execution_count": null,
      "outputs": []
    },
    {
      "cell_type": "code",
      "source": [
        "# signatures for 5-shingles based on characters\n",
        "d1_sign_5 = minhash_signatures(200, d1_shingles_5)\n",
        "d2_sign_5 = minhash_signatures(200, d2_shingles_5)\n",
        "d3_sign_5 = minhash_signatures(200, d3_shingles_5)\n",
        "d4_sign_5 = minhash_signatures(200, d4_shingles_5)\n",
        "\n",
        "print(\"Min hash signature of 5-shingle construct based on character of document 1: \", d1_sign_5)\n",
        "print(\"Min hash signature of 5-shingle construct based on character of document 2: \", d2_sign_5)\n",
        "print(\"Min hash signature of 5-shingle construct based on character of document 3: \", d3_sign_5)\n",
        "print(\"Min hash signature of 5-shingle construct based on character of document 4: \", d4_sign_5)\n",
        "print(\"-------------------------------------------------------------------------------------------------------\")\n",
        "\n",
        "# signatures for 8-shingles based on characters\n",
        "d1_sign_8 = minhash_signatures(200, d1_shingles_8)\n",
        "d2_sign_8 = minhash_signatures(200, d2_shingles_8)\n",
        "d3_sign_8 = minhash_signatures(200, d3_shingles_8)\n",
        "d4_sign_8 = minhash_signatures(200, d4_shingles_8)\n",
        "\n",
        "print(\"Min hash signature of 8-shingle construct based on character of document 1: \", d1_sign_8)\n",
        "print(\"Min hash signature of 8-shingle construct based on character of document 2: \", d2_sign_8)\n",
        "print(\"Min hash signature of 8-shingle construct based on character of document 3: \", d3_sign_8)\n",
        "print(\"Min hash signature of 8-shingle construct based on character of document 4: \", d4_sign_8)\n",
        "print(\"-------------------------------------------------------------------------------------------------------\")\n",
        "\n",
        "# signatures for 4-shingles based on words\n",
        "d1_sign_4 = minhash_signatures(200, d1_shingles_4)\n",
        "d2_sign_4 = minhash_signatures(200, d2_shingles_4)\n",
        "d3_sign_4 = minhash_signatures(200, d3_shingles_4)\n",
        "d4_sign_4 = minhash_signatures(200, d4_shingles_4)\n",
        "\n",
        "print(\"Min hash signature of 4-shingle construct based on words of document 1: \", d1_sign_4)\n",
        "print(\"Min hash signature of 4-shingle construct based on words of document 2: \", d2_sign_4)\n",
        "print(\"Min hash signature of 4-shingle construct based on words of document 3: \", d3_sign_4)\n",
        "print(\"Min hash signature of 4-shingle construct based on words of document 4: \", d4_sign_4)"
      ],
      "metadata": {
        "colab": {
          "base_uri": "https://localhost:8080/"
        },
        "id": "QgGTXhwae4vy",
        "outputId": "050b2b4c-4a91-443e-fcd7-5c8c55389a2f"
      },
      "execution_count": null,
      "outputs": [
        {
          "output_type": "stream",
          "name": "stdout",
          "text": [
            "Min hash signature of 5-shingle construct based on character of document 1:  [2, 0, 0, 3, 5, 1, 4, 2, 2, 1, 2, 0, 0, 2, 0, 0, 3, 0, 0, 0, 1, 3, 2, 2, 1, 2, 1, 2, 1, 0, 1, 7, 0, 0, 0, 0, 5, 1, 7, 1, 1, 0, 1, 3, 7, 1, 0, 0, 0, 1, 0, 0, 0, 1, 2, 2, 2, 4, 0, 1, 4, 2, 0, 0, 2, 5, 1, 5, 4, 0, 2, 6, 0, 3, 2, 3, 0, 1, 0, 0, 1, 1, 0, 0, 0, 1, 0, 3, 0, 2, 2, 0, 3, 0, 0, 0, 3, 1, 3, 0, 4, 0, 4, 2, 0, 1, 4, 0, 0, 2, 0, 2, 0, 0, 0, 0, 12, 3, 2, 0, 1, 0, 2, 0, 5, 4, 1, 0, 0, 3, 0, 3, 0, 3, 0, 6, 1, 3, 1, 3, 1, 2, 2, 1, 1, 0, 2, 0, 0, 7, 0, 1, 0, 0, 3, 0, 0, 0, 6, 4, 1, 1, 2, 3, 2, 3, 1, 0, 0, 3, 1, 3, 2, 0, 11, 2, 0, 2, 1, 1, 2, 1, 1, 4, 0, 2, 0, 0, 0, 2, 3, 0, 5, 3, 0, 1, 1, 0, 1, 0]\n",
            "Min hash signature of 5-shingle construct based on character of document 2:  [2, 0, 3, 3, 3, 2, 1, 7, 0, 3, 2, 1, 3, 2, 5, 5, 3, 0, 7, 0, 0, 4, 1, 0, 0, 0, 1, 6, 7, 1, 4, 8, 0, 2, 3, 0, 5, 0, 3, 5, 3, 5, 3, 0, 2, 3, 3, 0, 1, 0, 0, 5, 5, 3, 3, 0, 1, 1, 0, 2, 4, 0, 2, 4, 5, 19, 1, 0, 2, 2, 3, 1, 2, 0, 0, 3, 0, 0, 3, 0, 6, 4, 2, 4, 0, 0, 0, 0, 0, 0, 2, 7, 6, 2, 2, 0, 2, 0, 1, 3, 7, 2, 4, 1, 5, 0, 1, 1, 5, 1, 10, 3, 1, 3, 0, 12, 1, 0, 2, 1, 14, 3, 9, 6, 2, 7, 3, 0, 2, 1, 0, 3, 6, 3, 0, 0, 1, 1, 5, 0, 7, 2, 1, 0, 0, 4, 2, 2, 3, 5, 5, 4, 1, 1, 8, 0, 1, 2, 0, 7, 11, 2, 14, 1, 11, 2, 1, 0, 3, 5, 0, 3, 1, 1, 1, 2, 0, 4, 1, 6, 6, 3, 1, 5, 1, 14, 0, 3, 4, 14, 1, 4, 7, 1, 0, 1, 0, 0, 0, 3]\n",
            "Min hash signature of 5-shingle construct based on character of document 3:  [8, 4, 2, 5, 3, 2, 0, 1, 2, 0, 4, 3, 0, 0, 2, 0, 11, 6, 4, 0, 6, 5, 2, 0, 4, 2, 7, 1, 1, 0, 0, 0, 3, 1, 0, 5, 2, 1, 3, 1, 0, 2, 0, 3, 2, 4, 1, 2, 1, 4, 1, 0, 3, 3, 0, 0, 3, 1, 3, 0, 1, 1, 2, 1, 0, 5, 4, 2, 1, 4, 3, 1, 7, 4, 4, 4, 2, 8, 7, 5, 2, 1, 1, 6, 0, 0, 3, 2, 0, 0, 2, 5, 1, 0, 4, 2, 1, 2, 0, 3, 0, 0, 2, 0, 12, 2, 5, 1, 1, 7, 15, 2, 0, 9, 3, 11, 1, 3, 0, 2, 1, 0, 1, 2, 0, 3, 2, 0, 1, 2, 0, 5, 2, 8, 2, 2, 0, 18, 1, 0, 7, 2, 0, 2, 0, 2, 6, 12, 1, 2, 0, 4, 2, 3, 0, 4, 0, 0, 2, 1, 12, 4, 2, 2, 13, 0, 2, 0, 1, 0, 3, 2, 1, 4, 1, 1, 5, 7, 11, 4, 3, 3, 4, 7, 13, 0, 8, 0, 5, 2, 0, 4, 1, 1, 2, 0, 4, 5, 0, 1]\n",
            "Min hash signature of 5-shingle construct based on character of document 4:  [0, 3, 4, 2, 1, 2, 0, 0, 6, 1, 1, 1, 0, 3, 4, 6, 2, 1, 0, 0, 1, 6, 3, 2, 2, 0, 0, 3, 0, 0, 0, 0, 0, 4, 1, 3, 0, 7, 0, 0, 5, 0, 3, 1, 2, 3, 0, 9, 0, 2, 2, 1, 2, 0, 1, 4, 1, 3, 0, 2, 1, 1, 5, 0, 7, 2, 3, 1, 2, 0, 3, 0, 1, 0, 3, 2, 0, 3, 0, 0, 7, 2, 1, 1, 0, 2, 0, 0, 3, 1, 13, 0, 1, 0, 1, 0, 2, 0, 1, 0, 3, 0, 1, 2, 12, 0, 0, 1, 0, 2, 3, 0, 0, 1, 0, 0, 2, 1, 1, 5, 1, 3, 0, 3, 3, 0, 0, 4, 2, 1, 1, 1, 12, 0, 0, 0, 1, 6, 1, 2, 0, 0, 4, 4, 1, 4, 0, 0, 1, 0, 0, 3, 4, 0, 1, 0, 1, 1, 3, 0, 0, 0, 2, 0, 2, 0, 1, 5, 1, 3, 1, 3, 3, 1, 0, 1, 2, 2, 5, 1, 0, 0, 3, 0, 6, 0, 1, 2, 1, 1, 3, 3, 0, 0, 0, 0, 2, 1, 1, 0]\n",
            "-------------------------------------------------------------------------------------------------------\n",
            "Min hash signature of 8-shingle construct based on character of document 1:  [3, 3, 2, 1, 3, 1, 0, 1, 0, 5, 0, 0, 2, 2, 0, 4, 2, 0, 0, 0, 1, 1, 0, 0, 6, 5, 8, 3, 2, 1, 1, 1, 0, 1, 1, 6, 0, 1, 6, 0, 0, 0, 0, 1, 8, 0, 1, 0, 3, 3, 8, 1, 0, 1, 1, 5, 0, 1, 0, 6, 3, 0, 1, 1, 3, 1, 1, 0, 0, 1, 1, 1, 1, 3, 0, 0, 0, 0, 0, 4, 0, 10, 0, 3, 1, 0, 3, 4, 0, 1, 1, 0, 3, 1, 0, 0, 0, 7, 1, 0, 3, 3, 0, 0, 5, 0, 5, 1, 0, 2, 1, 4, 0, 6, 0, 7, 0, 1, 1, 0, 0, 2, 2, 0, 3, 1, 0, 3, 1, 0, 2, 1, 0, 0, 1, 0, 5, 0, 1, 2, 0, 2, 1, 2, 0, 5, 0, 0, 2, 3, 1, 0, 0, 0, 0, 0, 0, 0, 3, 2, 1, 3, 3, 0, 0, 2, 1, 0, 0, 0, 0, 2, 0, 4, 0, 3, 3, 0, 2, 0, 1, 6, 2, 1, 0, 0, 1, 0, 0, 0, 1, 2, 2, 1, 2, 0, 1, 3, 4, 1]\n",
            "Min hash signature of 8-shingle construct based on character of document 2:  [5, 3, 1, 6, 2, 1, 0, 0, 20, 0, 1, 1, 6, 1, 7, 2, 2, 6, 1, 2, 2, 1, 2, 2, 5, 6, 4, 1, 5, 0, 0, 0, 4, 0, 6, 2, 7, 2, 0, 0, 7618, 4, 6, 1, 0, 1, 4, 2, 5, 11, 1, 7, 2, 3, 0, 1, 8, 2, 1, 1, 2, 1, 4, 0, 4, 7, 5, 0, 2, 8, 0, 1, 3, 2, 2, 3, 3, 0, 13, 0, 0, 0, 3, 2, 3, 7, 1, 1, 1, 0, 16, 0, 5, 1, 2, 4, 5, 0, 7, 4, 1, 0, 0, 3, 0, 4, 0, 1, 8, 0, 0, 1, 1, 0, 2, 1, 1, 0, 4, 5, 0, 5, 2, 5, 6, 4, 8, 10, 0, 2, 1, 1, 0, 0, 4, 3, 1, 4, 0, 0, 3, 1, 0, 2, 3, 1, 9, 7, 0, 2, 1, 1, 0, 9, 2, 0, 7, 2, 0, 15, 2, 4, 3, 2, 3, 1, 5, 21, 2, 5, 4, 12, 12, 1, 0, 11, 0, 2, 0, 8, 1, 3, 3, 2, 0, 0, 0, 1, 2, 2, 1, 6, 5, 0, 0, 1, 0, 6, 0, 2]\n",
            "Min hash signature of 8-shingle construct based on character of document 3:  [4, 0, 0, 1, 1, 0, 1, 0, 15, 0, 5, 0, 1, 1, 3, 2, 0, 4, 6, 2, 0, 1, 1, 0, 0, 1, 2, 6, 1, 1, 2, 3, 4, 0, 2, 0, 0, 3, 5, 1, 0, 0, 9, 1, 4, 1, 3, 1, 0, 0, 1, 0, 0, 1, 3, 4, 2, 0, 0, 3, 5, 0, 2, 2, 6, 3, 0, 4, 0, 1, 3, 0, 1, 0, 0, 5, 1, 6, 18, 2, 2, 2, 0, 1, 1, 0, 1, 1, 5, 0, 0, 4, 6, 0, 4, 1, 5, 2, 1, 4, 1, 0, 4, 4, 6, 4, 4, 6, 1, 0, 0, 0, 0, 1, 0, 0, 3, 1, 0, 1, 2, 1, 1, 0, 5, 1, 1, 1, 14, 0, 8, 3, 1, 4, 1, 0, 3, 1, 2, 6, 14, 0, 1, 3, 2, 0, 5, 1, 0, 1, 0, 0, 3, 0, 0, 2, 0, 2, 0, 9, 15, 1, 2, 1, 0, 6, 0, 5, 2, 2, 2, 2, 0, 3, 2, 0, 7, 2, 0, 1, 1, 4, 0, 1, 0, 3, 0, 1, 3, 2, 0, 1, 3, 0, 1, 1, 4, 7, 0, 8]\n",
            "Min hash signature of 8-shingle construct based on character of document 4:  [3, 3, 1, 3, 4, 2, 2, 0, 0, 2, 3, 0, 1, 1, 0, 1, 1, 1, 3, 3, 1, 2, 1, 0, 0, 0, 1, 1, 8, 0, 1, 6, 0, 3, 1, 0, 0, 11, 1, 1, 1, 3, 0, 5, 1, 8, 2, 2, 1, 0, 2, 2, 2, 4, 1, 1, 0, 0, 0, 0, 1, 1, 1, 1, 1, 0, 4, 2, 3, 1, 0, 6, 1, 1, 3, 0, 2, 1, 4, 0, 0, 6, 1, 0, 0, 1, 0, 1, 2, 2, 5, 1, 1, 0, 0, 0, 1, 5, 2, 0, 0, 4, 0, 1, 1, 3, 1, 0, 3, 6, 5, 2, 1, 0, 1, 0, 0, 4, 0, 10, 2, 0, 2, 6, 1, 3, 0, 0, 0, 4, 2, 0, 3, 0, 0, 5, 0, 2, 0, 3, 0, 2, 4, 1, 0, 2, 0, 3, 3, 1, 1, 2, 1, 2, 2, 0, 2, 2, 0, 0, 0, 3, 0, 0, 0, 1, 3, 1, 1, 0, 0, 3, 0, 0, 5, 1, 0, 1, 0, 0, 1, 1, 1, 0, 0, 3, 2, 0, 8, 1, 1, 0, 6, 1, 6, 0, 3, 0, 1, 1]\n",
            "-------------------------------------------------------------------------------------------------------\n",
            "Min hash signature of 4-shingle construct based on words of document 1:  [8, 8, 7, 0, 3, 7, 2, 0, 2, 1, 23, 1, 1, 10, 36, 12, 2, 1, 16, 6, 3, 1, 4, 1, 28, 2, 3, 17, 13, 5, 24, 24, 1, 3, 10, 0, 5, 2, 3, 0, 2, 12, 23, 4, 2, 10, 7, 25, 0, 4, 0, 13, 14, 4, 4, 4, 8, 0, 0, 16, 6, 1, 3, 6, 3, 1, 1, 28, 0, 3, 5, 3, 1, 16, 19, 8, 0, 2, 0, 4, 12, 2, 7, 8, 8, 5, 5, 12, 9, 14, 22, 3, 6, 0, 1, 13, 19, 14, 7, 1, 0, 3, 11, 7, 6, 16, 2, 0, 5, 10, 0, 1, 7, 0, 5, 5, 13, 1, 4, 10, 11, 16, 8, 0, 7, 7, 4, 7, 2, 1, 1, 3, 7, 18, 7, 2, 34, 0, 0, 9, 12, 2, 5, 5, 12, 4, 6, 2, 8, 6, 8, 34, 4, 2, 1, 8, 4, 2, 1, 15, 30, 27, 1, 0, 4, 1, 6, 5, 6, 20, 2, 3, 2, 1, 12, 2, 4, 5, 17, 2, 9, 7, 3, 1, 14, 5, 8, 5, 0, 7, 3, 3, 14, 7, 1, 1, 1, 14, 9, 7]\n",
            "Min hash signature of 4-shingle construct based on words of document 2:  [4, 76, 9, 11, 13, 1, 17, 0, 12, 34, 3, 2, 3, 14, 4, 8, 14, 28, 23, 0, 8, 14, 0, 13, 7, 8, 25, 6, 4, 12, 20, 13, 0, 9, 7, 5, 49, 43, 13, 6, 25, 11, 23, 5, 22, 6, 7, 5, 42, 14, 12, 4, 2, 5, 6, 6, 20, 9, 5, 12, 12, 9, 19, 19, 24, 0, 6, 7, 0, 0, 0, 10, 13, 2, 6, 13, 23, 8, 1, 5, 2, 29, 10, 16, 19, 8, 47, 12, 8, 0, 32, 35, 43, 8, 3, 19, 2, 24, 17, 6, 5, 8, 17, 24, 7, 9, 10, 18, 21, 17, 19, 14, 0, 21, 20, 12, 2, 1, 15, 1, 3, 7, 12, 4, 3, 16, 3, 3, 5, 6, 24, 2, 27, 5, 8, 9, 11, 0, 1, 12, 2, 17, 33, 14, 12, 7, 72, 1, 13, 9, 9, 7, 19, 7, 4, 5, 2, 44, 18, 17, 4, 1, 10, 9, 0, 7, 4, 30, 28, 9, 35, 20, 16, 9, 1, 7, 11, 17, 4, 11, 35, 9, 3, 43, 4, 8, 7, 6, 5, 14, 4, 2, 7, 5, 4, 0, 17, 1, 5, 10]\n",
            "Min hash signature of 4-shingle construct based on words of document 3:  [5, 11, 33, 45, 11, 5, 21, 9, 4, 1, 0, 8, 1, 12, 0, 2, 27, 19, 7, 24, 29, 8, 9, 1, 0, 1, 2, 8, 3, 6, 0, 10, 6, 16, 14, 13, 36, 9, 3, 4, 6, 23, 1, 7, 0, 0, 7, 0, 0, 39, 13, 8, 0, 2, 0, 22, 16, 30, 0, 14, 5, 3, 5, 6, 9, 5, 5, 1, 17, 4, 23, 2, 12, 16, 2, 1, 6, 17, 8, 48, 5, 3, 1, 2, 5, 1, 12, 3, 3, 7, 3, 3, 5, 16, 24, 26, 4, 13, 3, 4, 14, 23, 25, 6, 16, 4, 9, 16, 6, 24, 1, 2, 10, 2, 5, 19, 9, 2, 11, 0, 34, 5, 2, 6, 12, 0, 10, 17, 11, 27, 11, 7, 15, 20, 5, 0, 1, 0, 2, 10, 4, 5, 7, 4, 13, 5, 15, 17, 32, 1, 0, 0, 0, 23, 7, 0, 12, 1, 2, 1, 7, 4, 1, 0, 17, 3, 7, 3, 12, 10, 1, 12, 0, 9, 4, 0, 9, 4, 1, 1, 9, 15, 4, 21, 15, 23, 2, 6, 6, 7, 17, 1, 24, 6, 7, 8, 0, 11, 2, 3]\n",
            "Min hash signature of 4-shingle construct based on words of document 4:  [25, 6, 0, 8, 5, 2, 1, 3, 9, 9, 2, 8, 14, 5, 1, 2, 11, 11, 4, 4, 8, 2, 2, 8, 3, 5, 0, 1, 0, 10, 0, 1, 1, 11, 7, 6, 15, 3, 6, 8, 2, 5, 4, 19, 4, 8, 4, 13, 2, 6, 1, 3, 11, 5, 11, 18, 30, 1, 0, 7, 9, 0, 0, 4, 0, 0, 7, 21, 1, 0, 50, 6, 31, 1, 34, 3, 4, 21, 4, 15, 3, 3, 0, 0, 14, 6, 10, 3, 0, 32, 2, 13, 1, 7, 2, 0, 22, 14, 4, 1, 21, 14, 4, 0, 5, 4, 0, 47, 2, 14, 3, 22, 31, 2, 12, 0, 15, 0, 6, 14, 5, 4, 10, 27, 13, 0, 13, 2, 36, 9, 0, 7, 1, 22, 1, 4, 3, 5, 0, 6, 8, 5, 5, 2, 4, 3, 15, 13, 1, 1, 16, 3, 0, 4, 14, 0, 0, 1, 15, 3, 2, 4, 1, 12, 38, 19, 16, 0, 8, 0, 19, 6, 2, 0, 5, 3, 1, 14, 2, 22, 5, 18, 6, 1, 1, 0, 16, 0, 0, 1, 0, 5, 6, 0, 17, 2, 22, 4, 12, 5]\n"
          ]
        }
      ]
    },
    {
      "cell_type": "code",
      "source": [],
      "metadata": {
        "id": "8v_1NjepfBvg"
      },
      "execution_count": null,
      "outputs": []
    },
    {
      "cell_type": "code",
      "execution_count": null,
      "metadata": {
        "colab": {
          "base_uri": "https://localhost:8080/"
        },
        "id": "0af9404b-cb5b-4b32-b055-23633ed0c444",
        "outputId": "667d755b-09ef-4225-d666-54137bacca5b"
      },
      "outputs": [
        {
          "output_type": "stream",
          "name": "stdout",
          "text": [
            "Jaccard distance between signature 1 and signature 2 for 5-shingling based on characters:  0.33333333333333337\n",
            "Jaccard distance between signature 1 and signature 3 for 5-shingling based on characters:  0.33333333333333337\n",
            "Jaccard distance between signature 1 and signature 4 for 5-shingling based on characters:  0.25\n",
            "Jaccard distance between signature 2 and signature 3 for 5-shingling based on characters:  0.33333333333333337\n",
            "Jaccard distance between signature 2 and signature 4 for 5-shingling based on characters:  0.375\n",
            "Jaccard distance between signature 3 and signature 4 for 5-shingling based on characters:  0.2666666666666667\n",
            "---------------------------------------------------------------------------------------------------------------------\n",
            "Jaccard distance between signature 1 and signature 2 for 8-shingling based on characters:  0.4736842105263158\n",
            "Jaccard distance between signature 1 and signature 3 for 8-shingling based on characters:  0.3571428571428571\n",
            "Jaccard distance between signature 1 and signature 4 for 8-shingling based on characters:  0.18181818181818177\n",
            "Jaccard distance between signature 2 and signature 3 for 8-shingling based on characters:  0.47619047619047616\n",
            "Jaccard distance between signature 2 and signature 4 for 8-shingling based on characters:  0.4736842105263158\n",
            "Jaccard distance between signature 3 and signature 4 for 8-shingling based on characters:  0.4666666666666667\n",
            "---------------------------------------------------------------------------------------------------------------------\n",
            "Jaccard distance between signature 1 and signature 2 for 4-shingling based on words:  0.30952380952380953\n",
            "Jaccard distance between signature 1 and signature 3 for 4-shingling based on words:  0.26315789473684215\n",
            "Jaccard distance between signature 1 and signature 4 for 4-shingling based on words:  0.2777777777777778\n",
            "Jaccard distance between signature 2 and signature 3 for 4-shingling based on words:  0.32608695652173914\n",
            "Jaccard distance between signature 2 and signature 4 for 4-shingling based on words:  0.37777777777777777\n",
            "Jaccard distance between signature 3 and signature 4 for 4-shingling based on words:  0.3414634146341463\n"
          ]
        }
      ],
      "source": [
        "# Jaccard distance for all pairs 5-shingles based on characters min-hash signatures\n",
        "print(\n",
        "    \"Jaccard distance between signature 1 and signature 2 for 5-shingling based on characters: \",\n",
        "    jaccard_dist(d1_sign_5, d2_sign_5),\n",
        ")\n",
        "print(\n",
        "    \"Jaccard distance between signature 1 and signature 3 for 5-shingling based on characters: \",\n",
        "    jaccard_dist(d1_sign_5, d3_sign_5),\n",
        ")\n",
        "print(\n",
        "    \"Jaccard distance between signature 1 and signature 4 for 5-shingling based on characters: \",\n",
        "    jaccard_dist(d1_sign_5, d4_sign_5),\n",
        ")\n",
        "print(\n",
        "    \"Jaccard distance between signature 2 and signature 3 for 5-shingling based on characters: \",\n",
        "    jaccard_dist(d2_sign_5, d3_sign_5),\n",
        ")\n",
        "print(\n",
        "    \"Jaccard distance between signature 2 and signature 4 for 5-shingling based on characters: \",\n",
        "    jaccard_dist(d2_sign_5, d4_sign_5),\n",
        ")\n",
        "print(\n",
        "    \"Jaccard distance between signature 3 and signature 4 for 5-shingling based on characters: \",\n",
        "    jaccard_dist(d3_sign_5, d4_sign_5),\n",
        ")\n",
        "print(\n",
        "    \"---------------------------------------------------------------------------------------------------------------------\"\n",
        ")\n",
        "\n",
        "# Jaccard distance for all pairs 8-shingles based on characters min-hash signatures\n",
        "print(\n",
        "    \"Jaccard distance between signature 1 and signature 2 for 8-shingling based on characters: \",\n",
        "    jaccard_dist(d1_sign_8, d2_sign_8),\n",
        ")\n",
        "print(\n",
        "    \"Jaccard distance between signature 1 and signature 3 for 8-shingling based on characters: \",\n",
        "    jaccard_dist(d1_sign_8, d3_sign_8),\n",
        ")\n",
        "print(\n",
        "    \"Jaccard distance between signature 1 and signature 4 for 8-shingling based on characters: \",\n",
        "    jaccard_dist(d1_sign_8, d4_sign_8),\n",
        ")\n",
        "print(\n",
        "    \"Jaccard distance between signature 2 and signature 3 for 8-shingling based on characters: \",\n",
        "    jaccard_dist(d2_sign_8, d3_sign_8),\n",
        ")\n",
        "print(\n",
        "    \"Jaccard distance between signature 2 and signature 4 for 8-shingling based on characters: \",\n",
        "    jaccard_dist(d2_sign_8, d4_sign_8),\n",
        ")\n",
        "print(\n",
        "    \"Jaccard distance between signature 3 and signature 4 for 8-shingling based on characters: \",\n",
        "    jaccard_dist(d3_sign_8, d4_sign_8),\n",
        ")\n",
        "print(\n",
        "    \"---------------------------------------------------------------------------------------------------------------------\"\n",
        ")\n",
        "\n",
        "# Jaccard distance for all pairs 4-shingles based on words min-hash signatures\n",
        "print(\n",
        "    \"Jaccard distance between signature 1 and signature 2 for 4-shingling based on words: \",\n",
        "    jaccard_dist(d1_sign_4, d2_sign_4),\n",
        ")\n",
        "print(\n",
        "    \"Jaccard distance between signature 1 and signature 3 for 4-shingling based on words: \",\n",
        "    jaccard_dist(d1_sign_4, d3_sign_4),\n",
        ")\n",
        "print(\n",
        "    \"Jaccard distance between signature 1 and signature 4 for 4-shingling based on words: \",\n",
        "    jaccard_dist(d1_sign_4, d4_sign_4),\n",
        ")\n",
        "print(\n",
        "    \"Jaccard distance between signature 2 and signature 3 for 4-shingling based on words: \",\n",
        "    jaccard_dist(d2_sign_4, d3_sign_4),\n",
        ")\n",
        "print(\n",
        "    \"Jaccard distance between signature 2 and signature 4 for 4-shingling based on words: \",\n",
        "    jaccard_dist(d2_sign_4, d4_sign_4),\n",
        ")\n",
        "print(\n",
        "    \"Jaccard distance between signature 3 and signature 4 for 4-shingling based on words: \",\n",
        "    jaccard_dist(d3_sign_4, d4_sign_4),\n",
        ")"
      ]
    },
    {
      "cell_type": "markdown",
      "source": [
        "# F. Find the candidate pairs from the Signature Matrix and Plot the probabilities for different similarity and band values. Provide your conclusions for the entire experiment"
      ],
      "metadata": {
        "id": "_zfYAHWLfF8D"
      }
    },
    {
      "cell_type": "code",
      "source": [
        "import numpy as np\n",
        "import matplotlib.pyplot as plt\n",
        "import itertools\n",
        "\n",
        "signature_matrix_5 = np.array([d1_sign_5, d2_sign_5, d3_sign_5, d4_sign_5])\n",
        "signature_matrix_8 = np.array([d1_sign_8, d2_sign_8, d3_sign_8, d4_sign_8])\n",
        "signature_matrix_4 = np.array([d1_sign_4, d2_sign_4, d3_sign_4, d4_sign_4])\n",
        "\n",
        "\n"
      ],
      "metadata": {
        "id": "-EHxo_QHgMXd"
      },
      "execution_count": null,
      "outputs": []
    },
    {
      "cell_type": "code",
      "source": [
        "import hashlib\n",
        "# the family of hash functions, in this case, is the same function (sha1) applied with a different salt.\n",
        "class hashFamily:\n",
        "    def __init__(self, i):\n",
        "        self.resultSize = 8 # how many bytes we want back\n",
        "        self.maxLen = 20 # how long can our salt be (in decimal)\n",
        "        self.salt = str(i).zfill(self.maxLen)[-self.maxLen:]\n",
        "\n",
        "    def get_hash_value(self, el_to_hash):\n",
        "        return int(hashlib.sha1(str(el_to_hash).encode('utf-8') + self.salt.encode('utf-8')).hexdigest()[-self.resultSize:], 16)"
      ],
      "metadata": {
        "id": "GH3i4wYzlL3a"
      },
      "execution_count": null,
      "outputs": []
    },
    {
      "cell_type": "code",
      "source": [
        "from random import randint\n",
        "\n",
        "def get_signature_matrix_bands(sig_matrix, b, n): \n",
        "    r = n//b\n",
        "    bands = {} \n",
        "    for i in range(b):\n",
        "        bands[i] = []\n",
        "    for signature in sig_matrix: \n",
        "        for i in range(0, b):\n",
        "            idx = i*r    \n",
        "            bands[i].append(' '.join(str(x) for x in signature[idx:idx+r]) )          \n",
        "    return bands\n",
        "\n",
        "def get_band_buckets(band, hash_funct):\n",
        "    buckets = {}\n",
        "    for doc_id in range(0,len(band)):\n",
        "        value = hash_funct.get_hash_value( band[doc_id] )\n",
        "        if value not in buckets:\n",
        "            buckets[value] = [doc_id]\n",
        "        else:\n",
        "            buckets[value].append(doc_id)      \n",
        "    return buckets\n",
        "\n",
        "def get_candidates_list(buckets):\n",
        "    candidates = set()\n",
        "    for bucket,candidate_list in buckets.items():\n",
        "        if len(candidate_list) > 1:\n",
        "            for i in range(0,len(candidate_list)-1):\n",
        "                for j in range(i+1,len(candidate_list)):  \n",
        "                    pair = tuple(sorted( (candidate_list[i],candidate_list[j]) ))\n",
        "                    candidates.add(pair)\n",
        "    return candidates\n",
        "\n",
        "def check_candidates(candidates_list, threshold, sigs):\n",
        "    similar_docs = set() \n",
        "    for similar_pair in candidates_list:\n",
        "        doc_id_1 = similar_pair[0]\n",
        "        doc_id_2 = similar_pair[1]\n",
        "        signature_1 = set(sigs[doc_id_1]) \n",
        "        signature_2 = set(sigs[doc_id_2])\n",
        "        js = len(signature_1.intersection(signature_2))/len(signature_1.union(signature_2))\n",
        "        if js >= threshold:\n",
        "            similar_docs.add( tuple(sorted((doc_id_1,doc_id_2) )) )          \n",
        "    return similar_docs\n",
        "\n",
        "def get_similar_items(sig_matrix, b, n):\n",
        "    similar_docs = set()\n",
        "    bands = get_signature_matrix_bands(sig_matrix, b, n)\n",
        "    for band_id, elements in bands.items():\n",
        "        buckets = get_band_buckets(elements, hash_funct=hashFamily(randint(0,10000000000)))\n",
        "        candidates = get_candidates_list(buckets)\n",
        "        for sim_tuple in check_candidates(candidates, 0.1, sig_matrix):\n",
        "            similar_docs.add( sim_tuple)\n",
        "    return similar_docs \n"
      ],
      "metadata": {
        "id": "9Pg_sSRrCWtm"
      },
      "execution_count": null,
      "outputs": []
    },
    {
      "cell_type": "code",
      "source": [
        "b_vals = [1, 5, 20, 50, 100]\n",
        "r_vals = [100, 20, 5, 2, 1]\n",
        "sig_mat_index = [5,8,4]\n",
        "sig_matrices = [signature_matrix_5, signature_matrix_8, signature_matrix_4]\n",
        "for sig_mat in range(len(sig_matrices)):\n",
        "  for b in range(len(b_vals)):\n",
        "    print(\"Candidate pairs for Signature Matrix\",sig_mat_index[sig_mat],\"for b =\",b_vals[b],\":\")\n",
        "    print(get_similar_items(sig_matrices[sig_mat],b_vals[b],100))\n",
        "  print()"
      ],
      "metadata": {
        "colab": {
          "base_uri": "https://localhost:8080/"
        },
        "id": "sWBPm75Dk6eh",
        "outputId": "c2fc64ef-2b4f-4d74-fd23-cefbdfdd875d"
      },
      "execution_count": null,
      "outputs": [
        {
          "output_type": "stream",
          "name": "stdout",
          "text": [
            "Candidate pairs for Signature Matrix 5 for b = 1 :\n",
            "set()\n",
            "Candidate pairs for Signature Matrix 5 for b = 5 :\n",
            "set()\n",
            "Candidate pairs for Signature Matrix 5 for b = 20 :\n",
            "set()\n",
            "Candidate pairs for Signature Matrix 5 for b = 50 :\n",
            "{(0, 1), (1, 2), (0, 3), (2, 3), (0, 2), (1, 3)}\n",
            "Candidate pairs for Signature Matrix 5 for b = 100 :\n",
            "{(0, 1), (1, 2), (0, 3), (2, 3), (0, 2), (1, 3)}\n",
            "\n",
            "Candidate pairs for Signature Matrix 8 for b = 1 :\n",
            "set()\n",
            "Candidate pairs for Signature Matrix 8 for b = 5 :\n",
            "set()\n",
            "Candidate pairs for Signature Matrix 8 for b = 20 :\n",
            "set()\n",
            "Candidate pairs for Signature Matrix 8 for b = 50 :\n",
            "{(2, 3), (1, 2), (0, 3), (0, 2)}\n",
            "Candidate pairs for Signature Matrix 8 for b = 100 :\n",
            "{(0, 1), (1, 2), (0, 3), (2, 3), (0, 2), (1, 3)}\n",
            "\n",
            "Candidate pairs for Signature Matrix 4 for b = 1 :\n",
            "set()\n",
            "Candidate pairs for Signature Matrix 4 for b = 5 :\n",
            "set()\n",
            "Candidate pairs for Signature Matrix 4 for b = 20 :\n",
            "set()\n",
            "Candidate pairs for Signature Matrix 4 for b = 50 :\n",
            "set()\n",
            "Candidate pairs for Signature Matrix 4 for b = 100 :\n",
            "{(0, 1), (1, 2), (0, 3), (2, 3), (0, 2), (1, 3)}\n",
            "\n"
          ]
        }
      ]
    },
    {
      "cell_type": "code",
      "source": [
        "import numpy as np\n",
        "import matplotlib.pyplot as plt\n",
        "import itertools\n",
        "import collections\n",
        "\n",
        "n = 200\n",
        "b_r = [(2,100),(4,50),(10,20),(20,10),(50,4),(100,2)]\n",
        "y_vals = lambda p,r,b: 1-(1-p**r)**b\n",
        "x = np.linspace(0,1,100)\n",
        "for op in b_r:\n",
        "    plt.plot(x, y_vals(x,op[0],op[1]), label=op)\n",
        "plt.legend()\n",
        "plt.xlabel('Similarity')\n",
        "plt.ylabel('Probability')\n",
        "plt.title(\"Probability vs Similarity for different values of b and r\")\n",
        "plt.show()"
      ],
      "metadata": {
        "colab": {
          "base_uri": "https://localhost:8080/",
          "height": 295
        },
        "id": "6HdYkkLx9xuB",
        "outputId": "e1ebbdd0-6655-4da9-a0f3-679407070143"
      },
      "execution_count": null,
      "outputs": [
        {
          "output_type": "display_data",
          "data": {
            "text/plain": [
              "<Figure size 432x288 with 1 Axes>"
            ],
            "image/png": "[encoded data removed]"
          },
          "metadata": {
            "needs_background": "light"
          }
        }
      ]
    },
    {
      "cell_type": "code",
      "source": [
        "x = np.linspace(0,1,100)\n",
        "\n",
        "b,r = 5, 3\n",
        "y = 1-(1-x**r)**b\n",
        "plt.plot(x,y,'r-',label=f\"b={b},r={r}, n={b*r}\")\n",
        "\n",
        "b,r = 40, 6\n",
        "y = 1-(1-x**r)**b\n",
        "plt.plot(x,y,'b-',label=f\"b={b}, r={r}, n={b*r}\")\n",
        "\n",
        "b,r = 150, 8\n",
        "y = 1-(1-x**r)**b\n",
        "plt.plot(x,y,'g-',label=f\"b={b}, r={r}, n={b*r}\")\n",
        "\n",
        "b,r = 700, 10\n",
        "y = 1-(1-x**r)**b\n",
        "plt.plot(x,y,'g-',label=f\"b={b}, r={r}, n={b*r}\")\n",
        "\n",
        "plt.plot(x,0*x+0.5,'k--')\n",
        "plt.plot([0.5,0.5],[0,1],'k--')\n",
        "plt.legend()\n",
        "plt.xlabel('Similarity')\n",
        "plt.ylabel('Probability')\n",
        "plt.title(\"Probability vs Similarity for different values of b, r and n\")\n",
        "plt.show()"
      ],
      "metadata": {
        "colab": {
          "base_uri": "https://localhost:8080/",
          "height": 295
        },
        "id": "vzmFLTT5914o",
        "outputId": "1dac4a24-739e-41fa-d688-1324a6e6baab"
      },
      "execution_count": null,
      "outputs": [
        {
          "output_type": "display_data",
          "data": {
            "text/plain": [
              "<Figure size 432x288 with 1 Axes>"
            ],
            "image/png": "[encoded data removed]"
          },
          "metadata": {
            "needs_background": "light"
          }
        }
      ]
    }
  ]
}